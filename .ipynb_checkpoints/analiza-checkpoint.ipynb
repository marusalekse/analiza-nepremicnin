{
 "cells": [
  {
   "cell_type": "markdown",
   "metadata": {},
   "source": [
    "# Analiza stanovanj in prostorov za oddajo\n",
    "\n",
    "Podatki, ki jih imamo o stanovanjih in prostorih so:\n",
    "- Naslov\n",
    "- Kraj\n",
    "- Ime (oglasa)\n",
    "- Vrsta\n",
    "- Nadstropje\n",
    "- Leto izgradnje\n",
    "- Velikost v m2\n",
    "- Cena\n",
    "- Ponudnik oz. zasebna ponudba\n",
    "- Izračunana je še cena na m2"
   ]
  },
  {
   "cell_type": "code",
   "execution_count": null,
   "metadata": {},
   "outputs": [],
   "source": [
    "import numpy as np\n",
    "import pandas as pd\n",
    "ponudbe = pd.read_csv('oglasi.csv', index_col='url')\n",
    "ponudbe['cena_m2'] = ponudbe.cena / ponudbe.velikost\n",
    "pd.options.display.max_rows = 15"
   ]
  },
  {
   "cell_type": "markdown",
   "metadata": {},
   "source": [
    "## Pregled podaktov"
   ]
  },
  {
   "cell_type": "code",
   "execution_count": null,
   "metadata": {},
   "outputs": [],
   "source": [
    "ponudbe[:5]"
   ]
  }
 ],
 "metadata": {
  "kernelspec": {
   "display_name": "Python 3",
   "language": "python",
   "name": "python3"
  },
  "language_info": {
   "codemirror_mode": {
    "name": "ipython",
    "version": 3
   },
   "file_extension": ".py",
   "mimetype": "text/x-python",
   "name": "python",
   "nbconvert_exporter": "python",
   "pygments_lexer": "ipython3",
   "version": "3.7.0"
  }
 },
 "nbformat": 4,
 "nbformat_minor": 2
}
