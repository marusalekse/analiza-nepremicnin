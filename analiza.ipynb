{
 "cells": [
  {
   "cell_type": "markdown",
   "metadata": {},
   "source": [
    "# Analiza stanovanj in prostorov za oddajo\n",
    "\n",
    "Podatki, ki jih imamo o stanovanjih in prostorih so:\n",
    "- Naslov\n",
    "- Kraj\n",
    "- Ime (oglasa)\n",
    "- Vrsta\n",
    "- Nadstropje\n",
    "- Leto izgradnje\n",
    "- Velikost v m2\n",
    "- Cena\n",
    "- Ponudnik oz. zasebna ponudba\n",
    "- Izračunana je še cena na m2"
   ]
  },
  {
   "cell_type": "code",
   "execution_count": null,
   "metadata": {},
   "outputs": [],
   "source": [
    "import numpy as np\n",
    "import pandas as pd\n",
    "ponudbe = pd.read_csv('oglasi.csv', index_col='url')\n",
    "ponudbe['cena_m2'] = ponudbe.cena / ponudbe.velikost\n",
    "pd.options.display.max_rows = 15"
   ]
  },
  {
   "cell_type": "markdown",
   "metadata": {},
   "source": [
    "## Pregled podaktov"
   ]
  },
  {
   "cell_type": "code",
   "execution_count": null,
   "metadata": {},
   "outputs": [],
   "source": [
    "ponudbe[:5]"
   ]
  },
  {
   "cell_type": "markdown",
   "metadata": {},
   "source": [
    "## Število ponudb po krajih oz. predelih"
   ]
  },
  {
   "cell_type": "code",
   "execution_count": null,
   "metadata": {},
   "outputs": [],
   "source": [
    "print(ponudbe['kraj'].value_counts()[:15])\n",
    "ponudbe['kraj'].value_counts()[:40].plot.bar(figsize=(15, 5))"
   ]
  },
  {
   "cell_type": "markdown",
   "metadata": {},
   "source": [
    "Vidimo, da se nahaja največ ponudb v Ljubljani, kar sem tudi pričakovala, ostala mesta, presenetil pa me je Trzin, saj je manjše mesto."
   ]
  },
  {
   "cell_type": "markdown",
   "metadata": {},
   "source": [
    "## Število nepremičnin po ponudnikih"
   ]
  },
  {
   "cell_type": "code",
   "execution_count": null,
   "metadata": {},
   "outputs": [],
   "source": [
    "print(ponudbe['ponudnik'].value_counts()[:10])\n",
    "ponudbe['ponudnik'].value_counts()[:40].plot.bar(figsize=(15, 5))"
   ]
  },
  {
   "cell_type": "markdown",
   "metadata": {},
   "source": [
    "Skoraj polovica oglasov je v zasebni ponudbi, kar me je presenetilo, saj sem po svojih izkušnjah z nepremicnine.net pričakovala še več oglasov nepremičninskih agencij. Je pa zanimiv podatek, da je ima Stoja trade toliko več oglasov in delež na tržišču od ostalih."
   ]
  },
  {
   "cell_type": "markdown",
   "metadata": {},
   "source": [
    "# Nepremičnine po vrsti"
   ]
  },
  {
   "cell_type": "code",
   "execution_count": null,
   "metadata": {},
   "outputs": [],
   "source": [
    "print(ponudbe['vrsta'].value_counts())\n",
    "ponudbe['vrsta'].value_counts().plot.bar()"
   ]
  },
  {
   "cell_type": "code",
   "execution_count": null,
   "metadata": {},
   "outputs": [],
   "source": [
    "ponudbe.groupby('vrsta')['cena_m2'].mean().sort_values(ascending=False).plot.bar()"
   ]
  },
  {
   "cell_type": "markdown",
   "metadata": {},
   "source": [
    "Ponudbe poslovnih prostorov prevladujejo nad ostalimi kategorijami. Najdražje pa so za najem po teh podatkih hiše, ker pa je cenovna razlika tolikšna, sem se odločila dodati še graf z cenami in velikostmi hiš, ki je pokazal, da je najbrž nekaj ponudb vnesenih narobe."
   ]
  },
  {
   "cell_type": "code",
   "execution_count": null,
   "metadata": {},
   "outputs": [],
   "source": [
    "ponudbe[ponudbe.vrsta == 'Hiša'].plot.scatter(x='velikost', y='cena')"
   ]
  },
  {
   "cell_type": "markdown",
   "metadata": {},
   "source": [
    "# Stanovanja"
   ]
  },
  {
   "cell_type": "code",
   "execution_count": null,
   "metadata": {},
   "outputs": [],
   "source": [
    "stanovanja = ponudbe[ponudbe.vrsta == 'Stanovanje']\n",
    "stanovanja['nadstropje'].value_counts().plot.bar(figsize=(15, 5))"
   ]
  }
 ],
 "metadata": {
  "kernelspec": {
   "display_name": "Python 3",
   "language": "python",
   "name": "python3"
  },
  "language_info": {
   "codemirror_mode": {
    "name": "ipython",
    "version": 3
   },
   "file_extension": ".py",
   "mimetype": "text/x-python",
   "name": "python",
   "nbconvert_exporter": "python",
   "pygments_lexer": "ipython3",
   "version": "3.7.0"
  }
 },
 "nbformat": 4,
 "nbformat_minor": 2
}
