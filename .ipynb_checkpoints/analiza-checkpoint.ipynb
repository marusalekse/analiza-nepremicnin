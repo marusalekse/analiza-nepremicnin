{
 "cells": [
  {
   "cell_type": "markdown",
   "metadata": {},
   "source": [
    "# Analiza stanovanj in prostorov za oddajo\n",
    "\n",
    "Podatki, ki jih imamo o stanovanjih in prostorih so:\n",
    "- Naslov\n",
    "- Kraj\n",
    "- Ime (oglasa)\n",
    "- Vrsta\n",
    "- Nadstropje\n",
    "- Leto izgradnje\n",
    "- Velikost v m2\n",
    "- Cena\n",
    "- Ponudnik oz. zasebna ponudba\n",
    "- Izračunana je še cena na m2"
   ]
  },
  {
   "cell_type": "code",
   "execution_count": null,
   "metadata": {},
   "outputs": [],
   "source": [
    "import numpy as np\n",
    "import pandas as pd\n",
    "ponudbe = pd.read_csv('oglasi.csv', index_col='url')\n",
    "ponudbe['cena_m2'] = ponudbe.cena / ponudbe.velikost\n",
    "pd.options.display.max_rows = 15"
   ]
  },
  {
   "cell_type": "markdown",
   "metadata": {},
   "source": [
    "## Pregled podaktov"
   ]
  },
  {
   "cell_type": "code",
   "execution_count": null,
   "metadata": {},
   "outputs": [],
   "source": [
    "ponudbe[:5]"
   ]
  },
  {
   "cell_type": "markdown",
   "metadata": {},
   "source": [
    "## Število ponudb po krajih oz. predelih"
   ]
  },
  {
   "cell_type": "code",
   "execution_count": null,
   "metadata": {},
   "outputs": [],
   "source": [
    "print(ponudbe['kraj'].value_counts()[:15])\n",
    "ponudbe['kraj'].value_counts()[:40].plot.bar(figsize=(15, 5))"
   ]
  },
  {
   "cell_type": "markdown",
   "metadata": {},
   "source": [
    "Vidimo, da se nahaja največ ponudb v Ljubljani, kar sem tudi pričakovala, ostala mesta, presenetil pa me je Trzin, saj je manjše mesto."
   ]
  },
  {
   "cell_type": "markdown",
   "metadata": {},
   "source": [
    "## Število nepremičnin po ponudnikih"
   ]
  },
  {
   "cell_type": "code",
   "execution_count": null,
   "metadata": {},
   "outputs": [],
   "source": [
    "print(ponudbe['ponudnik'].value_counts()[:10])\n",
    "ponudbe['ponudnik'].value_counts()[:40].plot.bar(figsize=(15, 5))"
   ]
  },
  {
   "cell_type": "markdown",
   "metadata": {},
   "source": [
    "Skoraj polovica oglasov je v zasebni ponudbi, kar me je presenetilo, saj sem po svojih izkušnjah z nepremicnine.net pričakovala še več oglasov nepremičninskih agencij. Je pa zanimiv podatek, da je ima Stoja trade toliko več oglasov in delež na tržišču od ostalih."
   ]
  },
  {
   "cell_type": "markdown",
   "metadata": {},
   "source": [
    "# Nepremičnine po vrsti"
   ]
  },
  {
   "cell_type": "code",
   "execution_count": null,
   "metadata": {},
   "outputs": [],
   "source": [
    "print(ponudbe['vrsta'].value_counts())\n",
    "ponudbe['vrsta'].value_counts().plot.bar()"
   ]
  },
  {
   "cell_type": "code",
   "execution_count": null,
   "metadata": {},
   "outputs": [],
   "source": [
    "ponudbe.groupby('vrsta')['cena_m2'].mean().sort_values(ascending=False).plot.bar()"
   ]
  },
  {
   "cell_type": "markdown",
   "metadata": {},
   "source": [
    "Ponudbe poslovnih prostorov prevladujejo nad ostalimi kategorijami. Najdražje pa so za najem po teh podatkih hiše, ker pa je cenovna razlika tolikšna, sem se odločila dodati še graf z cenami in velikostmi hiš, ki je pokazal, da je najbrž nekaj ponudb vnesenih narobe."
   ]
  },
  {
   "cell_type": "code",
   "execution_count": null,
   "metadata": {},
   "outputs": [],
   "source": [
    "ponudbe[ponudbe.vrsta == 'Hiša'].plot.scatter(x='velikost', y='cena')"
   ]
  },
  {
   "cell_type": "markdown",
   "metadata": {},
   "source": [
    "# Stanovanja"
   ]
  },
  {
   "cell_type": "code",
   "execution_count": null,
   "metadata": {},
   "outputs": [],
   "source": [
    "stanovanja = ponudbe[ponudbe.vrsta == 'Stanovanje']\n",
    "stanovanja['nadstropje'].value_counts().plot.bar(figsize=(15, 5))"
   ]
  },
  {
   "cell_type": "code",
   "execution_count": null,
   "metadata": {},
   "outputs": [],
   "source": [
    "Večina stanovanj se oddaja v nižjih nadstropjih, k čemur pripomore tudi dejstvo da se veliko stanovanj nahaja v stanovanjkih hišah."
   ]
  },
  {
   "cell_type": "code",
   "execution_count": null,
   "metadata": {},
   "outputs": [],
   "source": [
    "stanovanja['ponudnik'].value_counts()[:40].plot.bar(logy=True, figsize=(15, 5))"
   ]
  },
  {
   "cell_type": "code",
   "execution_count": null,
   "metadata": {},
   "outputs": [],
   "source": [
    "Pri oddaji stanovanj se razmerje med zasebno oddajo in ponudbo agencij še dodatno poveča v primerjavi z vsemi nepremičninami."
   ]
  },
  {
   "cell_type": "code",
   "execution_count": null,
   "metadata": {},
   "outputs": [],
   "source": [
    "stanovanja.groupby('kraj')['cena_m2'].median().sort_values(ascending=False)[:40].plot.bar(logy=True, figsize=(15, 5))"
   ]
  },
  {
   "cell_type": "code",
   "execution_count": null,
   "metadata": {},
   "outputs": [],
   "source": [
    "Primerjava cene z lokacijo nam pokaže, da je pri nekaterih oglasih prišlo do pomote pri vnosu, hkrati pa pokaže, da se v Ljubljani cene močno spreminjajo glede na predel."
   ]
  },
  {
   "cell_type": "code",
   "execution_count": null,
   "metadata": {},
   "outputs": [],
   "source": [
    "stanovanja.groupby('ponudnik')['cena_m2'].median().sort_values(ascending=False)[:40].plot.bar(logy=True, figsize=(15, 5))"
   ]
  },
  {
   "cell_type": "code",
   "execution_count": null,
   "metadata": {},
   "outputs": [],
   "source": [
    "Tudi pri primerjavi cen med ponudniki stanovanj se opazi napačno vnešena stanovanja, hkrati pa lahko najdemo agencije, ki posredujejo najdražja stanovanja."
   ]
  },
  {
   "cell_type": "code",
   "execution_count": null,
   "metadata": {},
   "outputs": [],
   "source": [
    "# Ali velikost vpliva na ceno za m2\n",
    "stanovanja.plot.scatter(x='velikost', y='cena_m2', logy=True, figsize=(15, 5))\n",
    "# Ali velikost vpliva na koncno ceno\n",
    "stanovanja.plot.scatter(x='velikost', y='cena', logy=True, figsize=(15, 5))\n",
    "# Ali leto izgradnje vpliva na velikost\n",
    "stanovanja.plot.scatter(x='leto', y='velikost', figsize=(15, 5))"
   ]
  },
  {
   "cell_type": "code",
   "execution_count": null,
   "metadata": {},
   "outputs": [],
   "source": [
    "Zgornji trije grafi pokažejo da:\n",
    "- velikost stanovanja vpliva na ceno za m2 samo pri manjših stanovanjih\n",
    "- se kot predvideno cena enakomerno viša z velikostjo stanovanja\n",
    "- leto izgradnje ne vpliva preveč na velikost stanovanja"
   ]
  },
  {
   "cell_type": "code",
   "execution_count": null,
   "metadata": {},
   "outputs": [],
   "source": [
    "stanovanja[stanovanja.leto > 1900]['leto'].plot.box()"
   ]
  },
  {
   "cell_type": "code",
   "execution_count": null,
   "metadata": {},
   "outputs": [],
   "source": [
    "Večina stanovanj, ki se oddajajo je bilo zgrajenih v zadnjih 40 letih."
   ]
  },
  {
   "cell_type": "code",
   "execution_count": null,
   "metadata": {},
   "outputs": [],
   "source": [
    "stanovanja[(stanovanja['cena_m2'] < 200) & (stanovanja.leto > 1850)].plot.scatter(x='leto', y='cena_m2', figsize=(15, 5))"
   ]
  },
  {
   "cell_type": "code",
   "execution_count": null,
   "metadata": {},
   "outputs": [],
   "source": [
    "Leto izgradnje večinoma nima vpliva na samo ceno najemnine."
   ]
  }
 ],
 "metadata": {
  "kernelspec": {
   "display_name": "Python 3",
   "language": "python",
   "name": "python3"
  },
  "language_info": {
   "codemirror_mode": {
    "name": "ipython",
    "version": 3
   },
   "file_extension": ".py",
   "mimetype": "text/x-python",
   "name": "python",
   "nbconvert_exporter": "python",
   "pygments_lexer": "ipython3",
   "version": "3.7.0"
  }
 },
 "nbformat": 4,
 "nbformat_minor": 2
}
